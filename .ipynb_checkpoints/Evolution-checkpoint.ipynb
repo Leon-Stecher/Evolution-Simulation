{
 "cells": [
  {
   "cell_type": "code",
   "execution_count": 233,
   "id": "2b556924",
   "metadata": {},
   "outputs": [
    {
     "name": "stdout",
     "output_type": "stream",
     "text": [
      "The autoreload extension is already loaded. To reload it, use:\n",
      "  %reload_ext autoreload\n"
     ]
    },
    {
     "name": "stderr",
     "output_type": "stream",
     "text": [
      "[autoreload of population failed: Traceback (most recent call last):\n",
      "  File \"C:\\Users\\stech\\anaconda3\\envs\\evo_comp\\lib\\site-packages\\IPython\\extensions\\autoreload.py\", line 257, in check\n",
      "    superreload(m, reload, self.old_objects)\n",
      "  File \"C:\\Users\\stech\\anaconda3\\envs\\evo_comp\\lib\\site-packages\\IPython\\extensions\\autoreload.py\", line 455, in superreload\n",
      "    module = reload(module)\n",
      "  File \"C:\\Users\\stech\\anaconda3\\envs\\evo_comp\\lib\\importlib\\__init__.py\", line 169, in reload\n",
      "    _bootstrap._exec(spec, module)\n",
      "  File \"<frozen importlib._bootstrap>\", line 604, in _exec\n",
      "  File \"<frozen importlib._bootstrap_external>\", line 839, in exec_module\n",
      "  File \"<frozen importlib._bootstrap_external>\", line 976, in get_code\n",
      "  File \"<frozen importlib._bootstrap_external>\", line 906, in source_to_code\n",
      "  File \"<frozen importlib._bootstrap>\", line 219, in _call_with_frames_removed\n",
      "  File \"C:\\Users\\stech\\Desktop\\software projects\\Evolutionary Computations 2\\population.py\", line 74\n",
      "    inputs[i * m: i * m + m])\n",
      "    ^\n",
      "SyntaxError: invalid syntax\n",
      "]\n"
     ]
    }
   ],
   "source": [
    "%load_ext autoreload\n",
    "%autoreload 2\n",
    "import numpy as np\n",
    "import population as pop"
   ]
  },
  {
   "cell_type": "markdown",
   "id": "ea8cf8f0",
   "metadata": {},
   "source": [
    "# Graph-NN-Evolution-Simulation"
   ]
  },
  {
   "cell_type": "markdown",
   "id": "24d3b3a0",
   "metadata": {},
   "source": [
    "## The Individual (Node)"
   ]
  },
  {
   "cell_type": "markdown",
   "id": "3b1424ad",
   "metadata": {},
   "source": [
    "<a id='initialize'></a>\n",
    "### Initialize"
   ]
  },
  {
   "cell_type": "code",
   "execution_count": 191,
   "id": "021231c4",
   "metadata": {},
   "outputs": [],
   "source": [
    "TOM = pop.Individual()"
   ]
  },
  {
   "cell_type": "markdown",
   "id": "65aa5d67",
   "metadata": {},
   "source": [
    "### Play with genome encoding"
   ]
  },
  {
   "cell_type": "code",
   "execution_count": 180,
   "id": "98b9d96a",
   "metadata": {},
   "outputs": [
    {
     "data": {
      "text/plain": [
       "array([ 0.47331822, -0.14690536,  0.5315945 , -0.6769788 ,  0.8821552 ,\n",
       "        0.6531496 , -0.88337076, -0.09643018,  0.70187354,  0.8932525 ,\n",
       "       -0.22680992,  0.7966244 ,  0.        ,  0.        ,  0.        ,\n",
       "        0.        , -0.82790464, -0.03262597, -0.39292672, -0.7778126 ,\n",
       "       -0.03944713, -0.77591944, -0.55728745,  0.3477437 , -0.8523928 ,\n",
       "       -0.53373694,  0.7023353 ,  0.39643532,  0.75051993,  0.52679473,\n",
       "       -0.11505306, -0.23287868,  0.        ,  0.        ,  0.        ,\n",
       "        0.        ], dtype=float32)"
      ]
     },
     "execution_count": 180,
     "metadata": {},
     "output_type": "execute_result"
    }
   ],
   "source": [
    "genome = TOM.get_genome()\n",
    "genome"
   ]
  },
  {
   "cell_type": "code",
   "execution_count": 181,
   "id": "793e7c06",
   "metadata": {},
   "outputs": [
    {
     "data": {
      "text/plain": [
       "array([ 0,  1,  2,  3,  4,  5,  6,  7,  8,  9, 10, 11, 12, 13, 14, 15, 16,\n",
       "       17, 18, 19, 20, 21, 22, 23, 24, 25, 26, 27, 28, 29, 30, 31, 32, 33,\n",
       "       34, 35])"
      ]
     },
     "execution_count": 181,
     "metadata": {},
     "output_type": "execute_result"
    }
   ],
   "source": [
    "genome = np.arange(len(genome))\n",
    "genome"
   ]
  },
  {
   "cell_type": "code",
   "execution_count": 182,
   "id": "d57c1a31",
   "metadata": {},
   "outputs": [
    {
     "name": "stdout",
     "output_type": "stream",
     "text": [
      "\n",
      "\n",
      " [<tf.Variable 'dense_72/kernel:0' shape=(3, 4) dtype=float32, numpy=\n",
      "array([[ 0.47331822, -0.14690536,  0.5315945 , -0.6769788 ],\n",
      "       [ 0.8821552 ,  0.6531496 , -0.88337076, -0.09643018],\n",
      "       [ 0.70187354,  0.8932525 , -0.22680992,  0.7966244 ]],\n",
      "      dtype=float32)>, <tf.Variable 'dense_72/bias:0' shape=(4,) dtype=float32, numpy=array([0., 0., 0., 0.], dtype=float32)>]\n",
      "\n",
      "\n",
      " [<tf.Variable 'dense_73/kernel:0' shape=(4, 4) dtype=float32, numpy=\n",
      "array([[-0.82790464, -0.03262597, -0.39292672, -0.7778126 ],\n",
      "       [-0.03944713, -0.77591944, -0.55728745,  0.3477437 ],\n",
      "       [-0.8523928 , -0.53373694,  0.7023353 ,  0.39643532],\n",
      "       [ 0.75051993,  0.52679473, -0.11505306, -0.23287868]],\n",
      "      dtype=float32)>, <tf.Variable 'dense_73/bias:0' shape=(4,) dtype=float32, numpy=array([0., 0., 0., 0.], dtype=float32)>]\n"
     ]
    }
   ],
   "source": [
    "black_box = TOM.genome_to_black_box(genome)"
   ]
  },
  {
   "cell_type": "code",
   "execution_count": 183,
   "id": "e0ded98d",
   "metadata": {},
   "outputs": [
    {
     "data": {
      "text/plain": [
       "array([ 0.,  1.,  2.,  3.,  4.,  5.,  6.,  7.,  8.,  9., 10., 11., 12.,\n",
       "       13., 14., 15., 16., 17., 18., 19., 20., 21., 22., 23., 24., 25.,\n",
       "       26., 27., 28., 29., 30., 31., 32., 33., 34., 35.], dtype=float32)"
      ]
     },
     "execution_count": 183,
     "metadata": {},
     "output_type": "execute_result"
    }
   ],
   "source": [
    "genome = TOM.get_genome()\n",
    "genome"
   ]
  },
  {
   "cell_type": "markdown",
   "id": "20934bdd",
   "metadata": {},
   "source": [
    "### Output of the individual"
   ]
  },
  {
   "cell_type": "code",
   "execution_count": 184,
   "id": "5c71c701",
   "metadata": {},
   "outputs": [],
   "source": [
    "res = TOM.get_output(np.expand_dims(np.array([0,1,0]), axis=0))"
   ]
  },
  {
   "cell_type": "code",
   "execution_count": 185,
   "id": "0eb1f641",
   "metadata": {},
   "outputs": [
    {
     "data": {
      "text/plain": [
       "(array([0.00214401, 0.0158422 , 0.1170589 ], dtype=float32), 0.8649548)"
      ]
     },
     "execution_count": 185,
     "metadata": {},
     "output_type": "execute_result"
    }
   ],
   "source": [
    "res"
   ]
  },
  {
   "cell_type": "markdown",
   "id": "91ad1b58",
   "metadata": {},
   "source": [
    "<a id='population'></a>\n",
    "# The population (Graph)"
   ]
  },
  {
   "cell_type": "markdown",
   "id": "9369ee56",
   "metadata": {},
   "source": [
    "### Initialize"
   ]
  },
  {
   "cell_type": "code",
   "execution_count": 127,
   "id": "8c0add6c",
   "metadata": {},
   "outputs": [
    {
     "name": "stdout",
     "output_type": "stream",
     "text": [
      "The autoreload extension is already loaded. To reload it, use:\n",
      "  %reload_ext autoreload\n"
     ]
    }
   ],
   "source": [
    "%load_ext autoreload\n",
    "%autoreload 2\n",
    "import numpy as np\n",
    "import population as pop"
   ]
  },
  {
   "cell_type": "code",
   "execution_count": 130,
   "id": "f17c91c7",
   "metadata": {},
   "outputs": [],
   "source": [
    "INDIGO = pop.Population(10)\n",
    "# INDIGO.individuals\n",
    "INDIGO.individuals = np.array([pop.Individual() for idx in range(INDIGO.population_size)])"
   ]
  },
  {
   "cell_type": "code",
   "execution_count": 136,
   "id": "e495e73d",
   "metadata": {},
   "outputs": [
    {
     "name": "stdout",
     "output_type": "stream",
     "text": [
      "[0 1 1 1 1 0 0 1 0 1 1 1 0 0 0 1 1 0 1 1 1 0 1 1 1 0 0 1 0 1]\n",
      "[2. 2. 2. 2. 2. 2. 1. 1. 1. 3. 3. 3. 0. 0. 0. 2. 2. 2. 3. 3. 3. 2. 2. 2.\n",
      " 1. 1. 1. 2. 2. 2.]\n",
      "1.8\n",
      "0.8717797887081347\n"
     ]
    }
   ],
   "source": [
    "inputs = np.random.choice([0,1], size=sum([INDIGO.individuals[i].num_links for i in range(INDIGO.population_size)]))\n",
    "print('Input: ', inputs)\n",
    "outputs = INDIGO.get_output(inputs)\n",
    "print('Output: ', outputs)\n",
    "print('Mean: ', np.mean(outputs))\n",
    "print('Std: ', np.std(outputs))"
   ]
  },
  {
   "cell_type": "code",
   "execution_count": 117,
   "id": "132482f3",
   "metadata": {},
   "outputs": [
    {
     "name": "stdout",
     "output_type": "stream",
     "text": [
      "[<tf.Variable 'dense_583/kernel:0' shape=(3, 4) dtype=float32, numpy=\n",
      "array([[0.5, 0.5, 0.5, 0.5],\n",
      "       [0.5, 0.5, 0.5, 0.5],\n",
      "       [0.5, 0.5, 0.5, 0.5]], dtype=float32)>, <tf.Variable 'dense_583/bias:0' shape=(4,) dtype=float32, numpy=array([0., 0., 0., 0.], dtype=float32)>, <tf.Variable 'dense_584/kernel:0' shape=(4, 4) dtype=float32, numpy=\n",
      "array([[0.5, 0.5, 0.5, 0.5],\n",
      "       [0.5, 0.5, 0.5, 0.5],\n",
      "       [0.5, 0.5, 0.5, 0.5],\n",
      "       [0.5, 0.5, 0.5, 0.5]], dtype=float32)>, <tf.Variable 'dense_584/bias:0' shape=(4,) dtype=float32, numpy=array([0., 0., 0., 0.], dtype=float32)>]\n"
     ]
    }
   ],
   "source": [
    "TIM = pop.Individual()\n",
    "print(TIM.black_box.weights)"
   ]
  },
  {
   "cell_type": "code",
   "execution_count": null,
   "id": "cc3c2250",
   "metadata": {},
   "outputs": [],
   "source": []
  }
 ],
 "metadata": {
  "kernelspec": {
   "display_name": "Python 3 (ipykernel)",
   "language": "python",
   "name": "python3"
  },
  "language_info": {
   "codemirror_mode": {
    "name": "ipython",
    "version": 3
   },
   "file_extension": ".py",
   "mimetype": "text/x-python",
   "name": "python",
   "nbconvert_exporter": "python",
   "pygments_lexer": "ipython3",
   "version": "3.8.12"
  }
 },
 "nbformat": 4,
 "nbformat_minor": 5
}
