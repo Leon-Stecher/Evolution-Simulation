{
 "cells": [
  {
   "cell_type": "code",
   "execution_count": 10,
   "metadata": {},
   "outputs": [
    {
     "name": "stdout",
     "output_type": "stream",
     "text": [
      "The autoreload extension is already loaded. To reload it, use:\n",
      "  %reload_ext autoreload\n"
     ]
    }
   ],
   "source": [
    "%load_ext autoreload\n",
    "%autoreload 2\n",
    "import numpy as np\n",
    "from garden_simple import Plant\n",
    "from garden_simple import Garden\n",
    "from garden_simple import Evolution\n",
    "\n",
    "L = 400"
   ]
  },
  {
   "cell_type": "code",
   "execution_count": 15,
   "metadata": {},
   "outputs": [],
   "source": [
    "# pop = [Plant(np.random.randint(0,3,20), 0, 5), \n",
    "#         Plant(np.random.randint(0,3,50), 0, 30),\n",
    "#         Plant(np.random.randint(0,3,20), 0, 55),\n",
    "#         Plant(np.random.randint(0,3,20), 0, 80)]\n",
    "\n",
    "pop = [Plant(np.random.randint(0,4,20), 0, np.random.randint(0,L)) for i in range(20)]\n",
    "pop.append(Plant(np.array([0,0,0,0,0, 0,0,1,1,1, 1,1,1,1,1, 1,1,1,1,1]), 0, np.random.randint(0,L)))\n"
   ]
  },
  {
   "cell_type": "code",
   "execution_count": 16,
   "metadata": {},
   "outputs": [],
   "source": [
    "evo = Evolution(population=pop)"
   ]
  },
  {
   "cell_type": "code",
   "execution_count": 17,
   "metadata": {},
   "outputs": [
    {
     "data": {
      "image/png": "[encoded data removed]",
      "text/plain": [
       "<Figure size 720x576 with 1 Axes>"
      ]
     },
     "metadata": {
      "needs_background": "light"
     },
     "output_type": "display_data"
    },
    {
     "name": "stdout",
     "output_type": "stream",
     "text": [
      "# Survivors: 1, mean fitness: 3.62\n",
      "# Survivors: 21, mean fitness: 9.0\n",
      "# Survivors: 4, mean fitness: 3.62\n",
      "# Survivors: 11, mean fitness: 4.29\n",
      "# Survivors: 5, mean fitness: 3.24\n",
      "# Survivors: 9, mean fitness: 0.43\n",
      "# Survivors: 12, mean fitness: 3.57\n",
      "# Survivors: 12, mean fitness: 2.86\n",
      "# Survivors: 10, mean fitness: 2.24\n",
      "# Survivors: 8, mean fitness: 2.81\n",
      "# Survivors: 16, mean fitness: 3.67\n",
      "# Survivors: 11, mean fitness: 3.14\n",
      "# Survivors: 13, mean fitness: 3.67\n",
      "# Survivors: 12, mean fitness: 3.52\n",
      "# Survivors: 9, mean fitness: 2.81\n",
      "# Survivors: 12, mean fitness: 2.57\n",
      "# Survivors: 5, mean fitness: 1.57\n",
      "# Survivors: 13, mean fitness: 3.67\n",
      "# Survivors: 6, mean fitness: 2.19\n",
      "# Survivors: 4, mean fitness: 2.29\n",
      "# Survivors: 10, mean fitness: 1.67\n",
      "# Survivors: 8, mean fitness: 2.76\n",
      "# Survivors: 6, mean fitness: 3.05\n",
      "# Survivors: 7, mean fitness: 2.29\n",
      "# Survivors: 3, mean fitness: 1.57\n",
      "# Survivors: 14, mean fitness: 1.67\n",
      "# Survivors: 7, mean fitness: 2.24\n",
      "# Survivors: 9, mean fitness: 1.86\n",
      "# Survivors: 2, mean fitness: 1.71\n",
      "# Survivors: 21, mean fitness: 3.0\n",
      "# Survivors: 7, mean fitness: 1.86\n",
      "# Survivors: 18, mean fitness: 4.29\n",
      "# Survivors: 6, mean fitness: 2.52\n",
      "# Survivors: 3, mean fitness: 1.43\n",
      "# Survivors: 14, mean fitness: 3.33\n",
      "# Survivors: 2, mean fitness: 2.62\n",
      "# Survivors: 10, mean fitness: 0.95\n",
      "# Survivors: 8, mean fitness: 3.1\n",
      "# Survivors: 10, mean fitness: 2.62\n",
      "# Survivors: 6, mean fitness: 2.67\n",
      "# Survivors: 11, mean fitness: 2.29\n",
      "# Survivors: 1, mean fitness: 2.19\n",
      "# Survivors: 21, mean fitness: 2.0\n",
      "# Survivors: 4, mean fitness: 2.76\n",
      "# Survivors: 16, mean fitness: 4.76\n",
      "# Survivors: 7, mean fitness: 3.05\n",
      "# Survivors: 6, mean fitness: 2.71\n",
      "# Survivors: 10, mean fitness: 2.62\n",
      "# Survivors: 11, mean fitness: 2.48\n",
      "# Survivors: 11, mean fitness: 2.1\n",
      "# Survivors: 10, mean fitness: 2.29\n",
      "# Survivors: 9, mean fitness: 1.86\n",
      "# Survivors: 2, mean fitness: 1.33\n",
      "# Survivors: 11, mean fitness: 2.1\n",
      "# Survivors: 7, mean fitness: 1.29\n",
      "# Survivors: 9, mean fitness: 0.71\n",
      "# Survivors: 12, mean fitness: 2.0\n",
      "# Survivors: 7, mean fitness: 1.43\n",
      "# Survivors: 9, mean fitness: 1.43\n",
      "# Survivors: 12, mean fitness: 1.9\n",
      "# Survivors: 7, mean fitness: 1.52\n",
      "# Survivors: 12, mean fitness: 2.57\n",
      "# Survivors: 11, mean fitness: 1.76\n",
      "# Survivors: 12, mean fitness: 2.38\n",
      "# Survivors: 10, mean fitness: 2.1\n",
      "# Survivors: 9, mean fitness: 2.0\n",
      "# Survivors: 10, mean fitness: 2.9\n",
      "# Survivors: 13, mean fitness: 2.86\n",
      "# Survivors: 9, mean fitness: 2.95\n",
      "# Survivors: 14, mean fitness: 4.57\n",
      "# Survivors: 12, mean fitness: 2.33\n",
      "# Survivors: 7, mean fitness: 3.1\n",
      "# Survivors: 15, mean fitness: 3.57\n",
      "# Survivors: 12, mean fitness: 3.48\n",
      "# Survivors: 11, mean fitness: 3.19\n",
      "# Survivors: 12, mean fitness: 4.05\n",
      "# Survivors: 13, mean fitness: 3.29\n",
      "# Survivors: 11, mean fitness: 2.43\n",
      "# Survivors: 7, mean fitness: 3.43\n",
      "# Survivors: 6, mean fitness: 1.86\n",
      "# Survivors: 14, mean fitness: 3.71\n",
      "# Survivors: 6, mean fitness: 2.19\n",
      "# Survivors: 6, mean fitness: 3.24\n",
      "# Survivors: 6, mean fitness: 1.52\n",
      "# Survivors: 6, mean fitness: 1.86\n",
      "# Survivors: 6, mean fitness: 1.29\n",
      "# Survivors: 13, mean fitness: 2.67\n",
      "# Survivors: 11, mean fitness: 2.48\n",
      "# Survivors: 7, mean fitness: 3.33\n",
      "# Survivors: 15, mean fitness: 2.71\n",
      "# Survivors: 8, mean fitness: 3.19\n",
      "# Survivors: 16, mean fitness: 4.05\n",
      "# Survivors: 6, mean fitness: 3.75\n",
      "# Survivors: 10, mean fitness: 1.9\n",
      "# Survivors: 11, mean fitness: 3.76\n",
      "# Survivors: 5, mean fitness: 2.95\n",
      "# Survivors: 12, mean fitness: 3.24\n",
      "# Survivors: 6, mean fitness: 2.83\n",
      "# Survivors: 17, mean fitness: 4.67\n",
      "# Survivors: 6, mean fitness: 2.86\n",
      "Len  21\n",
      "[0, 1.0, 0, 3.0, 7.0, 1.0, 4.0, 0, 5.0, 2.0, 4.0, 5.0, 0, 6.0, 6.0, 8.0, 4.0, 0, 1.0, 0, 3.0]\n",
      "[79, 279, 88, 328, 352, 209, 79, 279, 88, 328, 352, 209, 79, 279, 88, 328, 352, 209, 79, 279, 88]\n"
     ]
    },
    {
     "data": {
      "image/png": "[encoded data removed]",
      "text/plain": [
       "<Figure size 720x576 with 1 Axes>"
      ]
     },
     "metadata": {
      "needs_background": "light"
     },
     "output_type": "display_data"
    }
   ],
   "source": [
    "evo.run(generations=100, length_garden=L)"
   ]
  },
  {
   "cell_type": "code",
   "execution_count": 18,
   "metadata": {},
   "outputs": [
    {
     "data": {
      "text/plain": [
       "<function matplotlib.pyplot.show(close=None, block=None)>"
      ]
     },
     "execution_count": 18,
     "metadata": {},
     "output_type": "execute_result"
    },
    {
     "data": {
      "image/png": "[encoded data removed]",
      "text/plain": [
       "<Figure size 432x288 with 1 Axes>"
      ]
     },
     "metadata": {
      "needs_background": "light"
     },
     "output_type": "display_data"
    }
   ],
   "source": [
    "all_genomes = []\n",
    "for plant in pop:\n",
    "    all_genomes += list(plant.genomes)\n",
    "\n",
    "import matplotlib.pyplot as plt\n",
    "\n",
    "plt.figure()\n",
    "plt.hist(all_genomes)\n",
    "plt.show"
   ]
  },
  {
   "cell_type": "code",
   "execution_count": null,
   "metadata": {},
   "outputs": [],
   "source": []
  }
 ],
 "metadata": {
  "interpreter": {
   "hash": "2dd4af04e6dfdc7574d44d3f16250dafc06fcd2156f9336a09abb23294677c00"
  },
  "kernelspec": {
   "display_name": "Python 3.8.12 ('evo_comp')",
   "language": "python",
   "name": "python3"
  },
  "language_info": {
   "codemirror_mode": {
    "name": "ipython",
    "version": 3
   },
   "file_extension": ".py",
   "mimetype": "text/x-python",
   "name": "python",
   "nbconvert_exporter": "python",
   "pygments_lexer": "ipython3",
   "version": "3.8.12"
  },
  "orig_nbformat": 4
 },
 "nbformat": 4,
 "nbformat_minor": 2
}
