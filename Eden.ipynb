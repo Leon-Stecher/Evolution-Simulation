{
 "cells": [
  {
   "cell_type": "code",
   "execution_count": 11,
   "metadata": {},
   "outputs": [
    {
     "name": "stdout",
     "output_type": "stream",
     "text": [
      "The autoreload extension is already loaded. To reload it, use:\n",
      "  %reload_ext autoreload\n"
     ]
    }
   ],
   "source": [
    "%load_ext autoreload\n",
    "%autoreload 2\n",
    "import numpy as np\n",
    "from garden_simple import Plant\n",
    "from garden_simple import Garden\n",
    "from garden_simple import Evolution\n",
    "\n",
    "L = 400"
   ]
  },
  {
   "cell_type": "code",
   "execution_count": 12,
   "metadata": {},
   "outputs": [],
   "source": [
    "# pop = [Plant(np.random.randint(0,3,20), 0, 5), \n",
    "#         Plant(np.random.randint(0,3,50), 0, 30),\n",
    "#         Plant(np.random.randint(0,3,20), 0, 55),\n",
    "#         Plant(np.random.randint(0,3,20), 0, 80)]\n",
    "\n",
    "# pop = [Plant(np.random.randint(0,4,20), 0, np.random.randint(0,L)) for i in range(20)]\n",
    "# pop.append(Plant(np.array([0,0,0,0,0, 0,0,1,1,1, 1,1,1,1,1, 1,1,1,1,1]), 0, np.random.randint(0,L)))\n",
    "\n",
    "pop = [Plant(np.array([0,0,0,0,0, 0,0,1,1,1, 1,1,1,1,1, 1,1,1,1,1]), 0, np.random.randint(0,L)) for i in range(20)]\n",
    "\n"
   ]
  },
  {
   "cell_type": "code",
   "execution_count": 13,
   "metadata": {},
   "outputs": [],
   "source": [
    "evo = Evolution(population=pop)"
   ]
  },
  {
   "cell_type": "code",
   "execution_count": 17,
   "metadata": {},
   "outputs": [
    {
     "name": "stdout",
     "output_type": "stream",
     "text": [
      "Animation function is called  :\n",
      "# Survivors: 16, mean fitness: 9.45\n"
     ]
    },
    {
     "data": {
      "image/png": "[encoded data removed]",
      "text/plain": [
       "<Figure size 432x288 with 1 Axes>"
      ]
     },
     "metadata": {
      "needs_background": "light"
     },
     "output_type": "display_data"
    }
   ],
   "source": [
    "# evo.run(generations=100, length_garden=L)\n",
    "%matplotlib inline\n",
    "evo.run_animation(generations=10, length_garden=L)"
   ]
  },
  {
   "cell_type": "code",
   "execution_count": 15,
   "metadata": {},
   "outputs": [],
   "source": [
    "# all_genomes = []\n",
    "# for plant in pop:\n",
    "#     all_genomes += list(plant.genomes)\n",
    "\n",
    "# import matplotlib.pyplot as plt\n",
    "\n",
    "# plt.figure()\n",
    "# plt.hist(all_genomes)\n",
    "# plt.show"
   ]
  },
  {
   "cell_type": "code",
   "execution_count": null,
   "metadata": {},
   "outputs": [],
   "source": []
  }
 ],
 "metadata": {
  "interpreter": {
   "hash": "2dd4af04e6dfdc7574d44d3f16250dafc06fcd2156f9336a09abb23294677c00"
  },
  "kernelspec": {
   "display_name": "Python 3.8.12 ('evo_comp')",
   "language": "python",
   "name": "python3"
  },
  "language_info": {
   "codemirror_mode": {
    "name": "ipython",
    "version": 3
   },
   "file_extension": ".py",
   "mimetype": "text/x-python",
   "name": "python",
   "nbconvert_exporter": "python",
   "pygments_lexer": "ipython3",
   "version": "3.8.13"
  },
  "orig_nbformat": 4
 },
 "nbformat": 4,
 "nbformat_minor": 2
}
